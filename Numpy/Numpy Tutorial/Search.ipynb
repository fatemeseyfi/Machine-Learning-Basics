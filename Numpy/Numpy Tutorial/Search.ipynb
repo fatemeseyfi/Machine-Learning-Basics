{
 "cells": [
  {
   "cell_type": "code",
   "execution_count": 1,
   "metadata": {},
   "outputs": [],
   "source": [
    "import numpy as np"
   ]
  },
  {
   "cell_type": "code",
   "execution_count": 15,
   "metadata": {},
   "outputs": [
    {
     "name": "stdout",
     "output_type": "stream",
     "text": [
      "(array([2, 9], dtype=int64),)\n",
      "[2 9]\n",
      "[3 3]\n"
     ]
    }
   ],
   "source": [
    "# Search\n",
    "np1 = np.array([1,2,3,4,5,6,7,8,9, 3])\n",
    "x = np.where(np1 == 3)\n",
    "print(x)\n",
    "print(x[0])\n",
    "print(np1[x])"
   ]
  },
  {
   "cell_type": "code",
   "execution_count": 12,
   "metadata": {},
   "outputs": [
    {
     "data": {
      "text/plain": [
       "(array([4, 5, 6, 7, 8], dtype=int64),)"
      ]
     },
     "execution_count": 12,
     "metadata": {},
     "output_type": "execute_result"
    }
   ],
   "source": [
    "x = np.where(np1 > 4)\n",
    "x"
   ]
  },
  {
   "cell_type": "code",
   "execution_count": 20,
   "metadata": {},
   "outputs": [
    {
     "name": "stdout",
     "output_type": "stream",
     "text": [
      "[2 4 6 8]\n",
      "(array([1, 3, 5, 7], dtype=int64),)\n",
      "[2 4 6 8]\n"
     ]
    }
   ],
   "source": [
    "# Return even numbers\n",
    "flt = (np1 % 2 == 0)\n",
    "print(np1[flt])\n",
    "\n",
    "# --------------------\n",
    "y = np.where(np1%2==0)\n",
    "print(y)\n",
    "print(np1[y])"
   ]
  },
  {
   "cell_type": "code",
   "execution_count": null,
   "metadata": {},
   "outputs": [],
   "source": []
  }
 ],
 "metadata": {
  "kernelspec": {
   "display_name": "Python 3",
   "language": "python",
   "name": "python3"
  },
  "language_info": {
   "codemirror_mode": {
    "name": "ipython",
    "version": 3
   },
   "file_extension": ".py",
   "mimetype": "text/x-python",
   "name": "python",
   "nbconvert_exporter": "python",
   "pygments_lexer": "ipython3",
   "version": "3.10.5"
  }
 },
 "nbformat": 4,
 "nbformat_minor": 2
}
