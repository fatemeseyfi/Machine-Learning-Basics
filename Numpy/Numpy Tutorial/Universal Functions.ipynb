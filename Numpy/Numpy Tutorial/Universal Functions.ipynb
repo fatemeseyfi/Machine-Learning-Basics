{
 "cells": [
  {
   "cell_type": "code",
   "execution_count": 1,
   "metadata": {},
   "outputs": [],
   "source": [
    "import numpy as np"
   ]
  },
  {
   "cell_type": "code",
   "execution_count": 7,
   "metadata": {},
   "outputs": [
    {
     "name": "stdout",
     "output_type": "stream",
     "text": [
      "[ 0  1  2 -3  4  5  6 -7  8 -9]\n"
     ]
    }
   ],
   "source": [
    "np1 = np.array([0,1,2,-3,4,5,6,-7,8,-9])\n",
    "print(np1)"
   ]
  },
  {
   "cell_type": "code",
   "execution_count": 3,
   "metadata": {},
   "outputs": [
    {
     "name": "stdout",
     "output_type": "stream",
     "text": [
      "[0.         1.         1.41421356 1.73205081 2.         2.23606798\n",
      " 2.44948974 2.64575131 2.82842712 3.        ]\n"
     ]
    }
   ],
   "source": [
    "# Square route of each element\n",
    "print(np.sqrt(np1))"
   ]
  },
  {
   "cell_type": "code",
   "execution_count": 4,
   "metadata": {},
   "outputs": [
    {
     "name": "stdout",
     "output_type": "stream",
     "text": [
      "[0 1 2 3 4 5 6 7 8 9]\n"
     ]
    }
   ],
   "source": [
    "# Absolute value\n",
    "print(np.absolute(np1))"
   ]
  },
  {
   "cell_type": "code",
   "execution_count": 9,
   "metadata": {},
   "outputs": [
    {
     "name": "stdout",
     "output_type": "stream",
     "text": [
      "[1.00000000e+00 2.71828183e+00 7.38905610e+00 4.97870684e-02\n",
      " 5.45981500e+01 1.48413159e+02 4.03428793e+02 9.11881966e-04\n",
      " 2.98095799e+03 1.23409804e-04]\n"
     ]
    }
   ],
   "source": [
    "# Exponents\n",
    "print(np.exp(np1))"
   ]
  },
  {
   "cell_type": "code",
   "execution_count": 8,
   "metadata": {},
   "outputs": [
    {
     "name": "stdout",
     "output_type": "stream",
     "text": [
      "-9\n",
      "8\n"
     ]
    }
   ],
   "source": [
    "# Min/Max\n",
    "print(np.min(np1))\n",
    "print(np.max(np1))"
   ]
  },
  {
   "cell_type": "code",
   "execution_count": 10,
   "metadata": {},
   "outputs": [
    {
     "name": "stdout",
     "output_type": "stream",
     "text": [
      "[ 0  1  1 -1  1  1  1 -1  1 -1]\n"
     ]
    }
   ],
   "source": [
    "# Sign pos or neg\n",
    "print(np.sign(np1))"
   ]
  },
  {
   "cell_type": "code",
   "execution_count": 12,
   "metadata": {},
   "outputs": [
    {
     "name": "stdout",
     "output_type": "stream",
     "text": [
      "[ 0.          0.84147098  0.90929743 -0.14112001 -0.7568025  -0.95892427\n",
      " -0.2794155  -0.6569866   0.98935825 -0.41211849]\n",
      "[ 1.          0.54030231 -0.41614684 -0.9899925  -0.65364362  0.28366219\n",
      "  0.96017029  0.75390225 -0.14550003 -0.91113026]\n",
      "[      -inf 0.         0.69314718        nan 1.38629436 1.60943791\n",
      " 1.79175947        nan 2.07944154        nan]\n"
     ]
    },
    {
     "name": "stderr",
     "output_type": "stream",
     "text": [
      "C:\\Users\\wq\\AppData\\Local\\Temp\\ipykernel_5156\\1744913412.py:4: RuntimeWarning: divide by zero encountered in log\n",
      "  print(np.log(np1))\n",
      "C:\\Users\\wq\\AppData\\Local\\Temp\\ipykernel_5156\\1744913412.py:4: RuntimeWarning: invalid value encountered in log\n",
      "  print(np.log(np1))\n"
     ]
    }
   ],
   "source": [
    "# Trig sin cos log\n",
    "print(np.sin(np1))\n",
    "print(np.cos(np1))\n",
    "print(np.log(np1))"
   ]
  },
  {
   "cell_type": "code",
   "execution_count": null,
   "metadata": {},
   "outputs": [],
   "source": []
  }
 ],
 "metadata": {
  "kernelspec": {
   "display_name": "Python 3",
   "language": "python",
   "name": "python3"
  },
  "language_info": {
   "codemirror_mode": {
    "name": "ipython",
    "version": 3
   },
   "file_extension": ".py",
   "mimetype": "text/x-python",
   "name": "python",
   "nbconvert_exporter": "python",
   "pygments_lexer": "ipython3",
   "version": "3.10.5"
  }
 },
 "nbformat": 4,
 "nbformat_minor": 2
}
